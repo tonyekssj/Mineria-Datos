{
 "cells": [
  {
   "cell_type": "code",
   "execution_count": 1,
   "id": "530b8870",
   "metadata": {},
   "outputs": [],
   "source": [
    "import pandas as pd \n",
    "import matplotlib.pyplot as plt\n",
    "import numpy as np\n"
   ]
  },
  {
   "cell_type": "code",
   "execution_count": 2,
   "id": "f5421c02",
   "metadata": {},
   "outputs": [
    {
     "name": "stderr",
     "output_type": "stream",
     "text": [
      "C:\\Users\\Antonio\\AppData\\Local\\Temp\\ipykernel_10680\\2338164564.py:1: DtypeWarning: Columns (22,32) have mixed types. Specify dtype option on import or set low_memory=False.\n",
      "  data=pd.read_csv('Building_Permits.csv')\n"
     ]
    },
    {
     "data": {
      "text/plain": [
       "Permit Number                                  0\n",
       "Permit Type                                    0\n",
       "Permit Type Definition                         0\n",
       "Permit Creation Date                           0\n",
       "Block                                          0\n",
       "Lot                                            0\n",
       "Street Number                                  0\n",
       "Street Number Suffix                      196684\n",
       "Street Name                                    0\n",
       "Street Suffix                               2768\n",
       "Unit                                      169421\n",
       "Unit Suffix                               196939\n",
       "Description                                  290\n",
       "Current Status                                 0\n",
       "Current Status Date                            0\n",
       "Filed Date                                     0\n",
       "Issued Date                                14940\n",
       "Completed Date                            101709\n",
       "First Construction Document Date           14946\n",
       "Structural Notification                   191978\n",
       "Number of Existing Stories                 42784\n",
       "Number of Proposed Stories                 42868\n",
       "Voluntary Soft-Story Retrofit             198865\n",
       "Fire Only Permit                          180073\n",
       "Permit Expiration Date                     51880\n",
       "Estimated Cost                             38066\n",
       "Revised Cost                                6066\n",
       "Existing Use                               41114\n",
       "Existing Units                             51538\n",
       "Proposed Use                               42439\n",
       "Proposed Units                             50911\n",
       "Plansets                                   37309\n",
       "TIDF Compliance                           198898\n",
       "Existing Construction Type                 43366\n",
       "Existing Construction Type Description     43366\n",
       "Proposed Construction Type                 43162\n",
       "Proposed Construction Type Description     43162\n",
       "Site Permit                               193541\n",
       "Supervisor District                         1717\n",
       "Neighborhoods - Analysis Boundaries         1725\n",
       "Zipcode                                     1716\n",
       "Location                                    1700\n",
       "Record ID                                      0\n",
       "dtype: int64"
      ]
     },
     "execution_count": 2,
     "metadata": {},
     "output_type": "execute_result"
    }
   ],
   "source": [
    "data=pd.read_csv('Building_Permits.csv')\n",
    "missing_values_count=data.isnull().sum()\n",
    "data.isnull().sum()"
   ]
  },
  {
   "cell_type": "code",
   "execution_count": 3,
   "id": "2be09842",
   "metadata": {},
   "outputs": [
    {
     "data": {
      "text/plain": [
       "2245941"
      ]
     },
     "execution_count": 3,
     "metadata": {},
     "output_type": "execute_result"
    }
   ],
   "source": [
    "total_datos_perdidos = missing_values_count.sum()\n",
    "total_datos_perdidos"
   ]
  },
  {
   "cell_type": "code",
   "execution_count": 4,
   "id": "f8cb22cd",
   "metadata": {},
   "outputs": [
    {
     "data": {
      "text/html": [
       "<div>\n",
       "<style scoped>\n",
       "    .dataframe tbody tr th:only-of-type {\n",
       "        vertical-align: middle;\n",
       "    }\n",
       "\n",
       "    .dataframe tbody tr th {\n",
       "        vertical-align: top;\n",
       "    }\n",
       "\n",
       "    .dataframe thead th {\n",
       "        text-align: right;\n",
       "    }\n",
       "</style>\n",
       "<table border=\"1\" class=\"dataframe\">\n",
       "  <thead>\n",
       "    <tr style=\"text-align: right;\">\n",
       "      <th></th>\n",
       "      <th>Permit Type</th>\n",
       "      <th>Street Number</th>\n",
       "      <th>Number of Existing Stories</th>\n",
       "      <th>Number of Proposed Stories</th>\n",
       "      <th>Estimated Cost</th>\n",
       "      <th>Revised Cost</th>\n",
       "      <th>Existing Units</th>\n",
       "      <th>Proposed Units</th>\n",
       "      <th>Plansets</th>\n",
       "      <th>Existing Construction Type</th>\n",
       "      <th>Proposed Construction Type</th>\n",
       "      <th>Supervisor District</th>\n",
       "      <th>Zipcode</th>\n",
       "      <th>Record ID</th>\n",
       "    </tr>\n",
       "  </thead>\n",
       "  <tbody>\n",
       "    <tr>\n",
       "      <th>count</th>\n",
       "      <td>198900.000000</td>\n",
       "      <td>198900.000000</td>\n",
       "      <td>156116.000000</td>\n",
       "      <td>156032.000000</td>\n",
       "      <td>1.608340e+05</td>\n",
       "      <td>1.928340e+05</td>\n",
       "      <td>147362.000000</td>\n",
       "      <td>147989.000000</td>\n",
       "      <td>161591.000000</td>\n",
       "      <td>155534.000000</td>\n",
       "      <td>155738.000000</td>\n",
       "      <td>197183.000000</td>\n",
       "      <td>197184.000000</td>\n",
       "      <td>1.989000e+05</td>\n",
       "    </tr>\n",
       "    <tr>\n",
       "      <th>mean</th>\n",
       "      <td>7.522323</td>\n",
       "      <td>1121.728944</td>\n",
       "      <td>5.705773</td>\n",
       "      <td>5.745043</td>\n",
       "      <td>1.689554e+05</td>\n",
       "      <td>1.328562e+05</td>\n",
       "      <td>15.666164</td>\n",
       "      <td>16.510950</td>\n",
       "      <td>1.274650</td>\n",
       "      <td>4.072878</td>\n",
       "      <td>4.089529</td>\n",
       "      <td>5.538403</td>\n",
       "      <td>94115.500558</td>\n",
       "      <td>1.162048e+12</td>\n",
       "    </tr>\n",
       "    <tr>\n",
       "      <th>std</th>\n",
       "      <td>1.457451</td>\n",
       "      <td>1135.768948</td>\n",
       "      <td>8.613455</td>\n",
       "      <td>8.613284</td>\n",
       "      <td>3.630386e+06</td>\n",
       "      <td>3.584903e+06</td>\n",
       "      <td>74.476321</td>\n",
       "      <td>75.220444</td>\n",
       "      <td>22.407345</td>\n",
       "      <td>1.585756</td>\n",
       "      <td>1.578766</td>\n",
       "      <td>2.887041</td>\n",
       "      <td>9.270131</td>\n",
       "      <td>4.918215e+11</td>\n",
       "    </tr>\n",
       "    <tr>\n",
       "      <th>min</th>\n",
       "      <td>1.000000</td>\n",
       "      <td>0.000000</td>\n",
       "      <td>0.000000</td>\n",
       "      <td>0.000000</td>\n",
       "      <td>1.000000e+00</td>\n",
       "      <td>0.000000e+00</td>\n",
       "      <td>0.000000</td>\n",
       "      <td>0.000000</td>\n",
       "      <td>0.000000</td>\n",
       "      <td>1.000000</td>\n",
       "      <td>1.000000</td>\n",
       "      <td>1.000000</td>\n",
       "      <td>94102.000000</td>\n",
       "      <td>1.293532e+10</td>\n",
       "    </tr>\n",
       "    <tr>\n",
       "      <th>25%</th>\n",
       "      <td>8.000000</td>\n",
       "      <td>235.000000</td>\n",
       "      <td>2.000000</td>\n",
       "      <td>2.000000</td>\n",
       "      <td>3.300000e+03</td>\n",
       "      <td>1.000000e+00</td>\n",
       "      <td>1.000000</td>\n",
       "      <td>1.000000</td>\n",
       "      <td>0.000000</td>\n",
       "      <td>3.000000</td>\n",
       "      <td>3.000000</td>\n",
       "      <td>3.000000</td>\n",
       "      <td>94109.000000</td>\n",
       "      <td>1.308567e+12</td>\n",
       "    </tr>\n",
       "    <tr>\n",
       "      <th>50%</th>\n",
       "      <td>8.000000</td>\n",
       "      <td>710.000000</td>\n",
       "      <td>3.000000</td>\n",
       "      <td>3.000000</td>\n",
       "      <td>1.100000e+04</td>\n",
       "      <td>7.000000e+03</td>\n",
       "      <td>1.000000</td>\n",
       "      <td>2.000000</td>\n",
       "      <td>2.000000</td>\n",
       "      <td>5.000000</td>\n",
       "      <td>5.000000</td>\n",
       "      <td>6.000000</td>\n",
       "      <td>94114.000000</td>\n",
       "      <td>1.371840e+12</td>\n",
       "    </tr>\n",
       "    <tr>\n",
       "      <th>75%</th>\n",
       "      <td>8.000000</td>\n",
       "      <td>1700.000000</td>\n",
       "      <td>4.000000</td>\n",
       "      <td>4.000000</td>\n",
       "      <td>3.500000e+04</td>\n",
       "      <td>2.870750e+04</td>\n",
       "      <td>4.000000</td>\n",
       "      <td>4.000000</td>\n",
       "      <td>2.000000</td>\n",
       "      <td>5.000000</td>\n",
       "      <td>5.000000</td>\n",
       "      <td>8.000000</td>\n",
       "      <td>94122.000000</td>\n",
       "      <td>1.435000e+12</td>\n",
       "    </tr>\n",
       "    <tr>\n",
       "      <th>max</th>\n",
       "      <td>8.000000</td>\n",
       "      <td>8400.000000</td>\n",
       "      <td>78.000000</td>\n",
       "      <td>78.000000</td>\n",
       "      <td>5.379586e+08</td>\n",
       "      <td>7.805000e+08</td>\n",
       "      <td>1907.000000</td>\n",
       "      <td>1911.000000</td>\n",
       "      <td>9000.000000</td>\n",
       "      <td>5.000000</td>\n",
       "      <td>5.000000</td>\n",
       "      <td>11.000000</td>\n",
       "      <td>94158.000000</td>\n",
       "      <td>1.498342e+12</td>\n",
       "    </tr>\n",
       "  </tbody>\n",
       "</table>\n",
       "</div>"
      ],
      "text/plain": [
       "         Permit Type  Street Number  Number of Existing Stories  \\\n",
       "count  198900.000000  198900.000000               156116.000000   \n",
       "mean        7.522323    1121.728944                    5.705773   \n",
       "std         1.457451    1135.768948                    8.613455   \n",
       "min         1.000000       0.000000                    0.000000   \n",
       "25%         8.000000     235.000000                    2.000000   \n",
       "50%         8.000000     710.000000                    3.000000   \n",
       "75%         8.000000    1700.000000                    4.000000   \n",
       "max         8.000000    8400.000000                   78.000000   \n",
       "\n",
       "       Number of Proposed Stories  Estimated Cost  Revised Cost  \\\n",
       "count               156032.000000    1.608340e+05  1.928340e+05   \n",
       "mean                     5.745043    1.689554e+05  1.328562e+05   \n",
       "std                      8.613284    3.630386e+06  3.584903e+06   \n",
       "min                      0.000000    1.000000e+00  0.000000e+00   \n",
       "25%                      2.000000    3.300000e+03  1.000000e+00   \n",
       "50%                      3.000000    1.100000e+04  7.000000e+03   \n",
       "75%                      4.000000    3.500000e+04  2.870750e+04   \n",
       "max                     78.000000    5.379586e+08  7.805000e+08   \n",
       "\n",
       "       Existing Units  Proposed Units       Plansets  \\\n",
       "count   147362.000000   147989.000000  161591.000000   \n",
       "mean        15.666164       16.510950       1.274650   \n",
       "std         74.476321       75.220444      22.407345   \n",
       "min          0.000000        0.000000       0.000000   \n",
       "25%          1.000000        1.000000       0.000000   \n",
       "50%          1.000000        2.000000       2.000000   \n",
       "75%          4.000000        4.000000       2.000000   \n",
       "max       1907.000000     1911.000000    9000.000000   \n",
       "\n",
       "       Existing Construction Type  Proposed Construction Type  \\\n",
       "count               155534.000000               155738.000000   \n",
       "mean                     4.072878                    4.089529   \n",
       "std                      1.585756                    1.578766   \n",
       "min                      1.000000                    1.000000   \n",
       "25%                      3.000000                    3.000000   \n",
       "50%                      5.000000                    5.000000   \n",
       "75%                      5.000000                    5.000000   \n",
       "max                      5.000000                    5.000000   \n",
       "\n",
       "       Supervisor District        Zipcode     Record ID  \n",
       "count        197183.000000  197184.000000  1.989000e+05  \n",
       "mean              5.538403   94115.500558  1.162048e+12  \n",
       "std               2.887041       9.270131  4.918215e+11  \n",
       "min               1.000000   94102.000000  1.293532e+10  \n",
       "25%               3.000000   94109.000000  1.308567e+12  \n",
       "50%               6.000000   94114.000000  1.371840e+12  \n",
       "75%               8.000000   94122.000000  1.435000e+12  \n",
       "max              11.000000   94158.000000  1.498342e+12  "
      ]
     },
     "execution_count": 4,
     "metadata": {},
     "output_type": "execute_result"
    }
   ],
   "source": [
    "limite = 100000\n",
    "data = data.drop(missing_values_count[missing_values_count > limite].index, axis=1)\n",
    "\n",
    "data.describe()\n"
   ]
  },
  {
   "cell_type": "code",
   "execution_count": 5,
   "id": "6e1a64b3",
   "metadata": {},
   "outputs": [
    {
     "data": {
      "text/plain": [
       "Permit Number                                 0\n",
       "Permit Type                                   0\n",
       "Permit Type Definition                        0\n",
       "Permit Creation Date                          0\n",
       "Block                                         0\n",
       "Lot                                           0\n",
       "Street Number                                 0\n",
       "Street Name                                   0\n",
       "Street Suffix                              2768\n",
       "Description                                 290\n",
       "Current Status                                0\n",
       "Current Status Date                           0\n",
       "Filed Date                                    0\n",
       "Issued Date                               14940\n",
       "First Construction Document Date          14946\n",
       "Number of Existing Stories                42784\n",
       "Number of Proposed Stories                42868\n",
       "Permit Expiration Date                    51880\n",
       "Estimated Cost                            38066\n",
       "Revised Cost                               6066\n",
       "Existing Use                              41114\n",
       "Existing Units                            51538\n",
       "Proposed Use                              42439\n",
       "Proposed Units                            50911\n",
       "Plansets                                  37309\n",
       "Existing Construction Type                43366\n",
       "Existing Construction Type Description    43366\n",
       "Proposed Construction Type                43162\n",
       "Proposed Construction Type Description    43162\n",
       "Supervisor District                        1717\n",
       "Neighborhoods - Analysis Boundaries        1725\n",
       "Zipcode                                    1716\n",
       "Location                                   1700\n",
       "Record ID                                     0\n",
       "dtype: int64"
      ]
     },
     "execution_count": 5,
     "metadata": {},
     "output_type": "execute_result"
    }
   ],
   "source": [
    "data.isnull().sum()"
   ]
  },
  {
   "cell_type": "code",
   "execution_count": 6,
   "id": "b9f77d6c",
   "metadata": {},
   "outputs": [
    {
     "data": {
      "text/plain": [
       "617833"
      ]
     },
     "execution_count": 6,
     "metadata": {},
     "output_type": "execute_result"
    }
   ],
   "source": [
    "missing_values_count=data.isnull().sum()\n",
    "total_datos_perdidos = missing_values_count.sum()\n",
    "total_datos_perdidos"
   ]
  },
  {
   "cell_type": "code",
   "execution_count": 9,
   "id": "57b6b88f",
   "metadata": {},
   "outputs": [
    {
     "data": {
      "text/plain": [
       "Permit Number                              object\n",
       "Permit Type                                 int64\n",
       "Permit Type Definition                     object\n",
       "Permit Creation Date                       object\n",
       "Block                                      object\n",
       "Lot                                        object\n",
       "Street Number                               int64\n",
       "Street Name                                object\n",
       "Street Suffix                              object\n",
       "Description                                object\n",
       "Current Status                             object\n",
       "Current Status Date                        object\n",
       "Filed Date                                 object\n",
       "Issued Date                                object\n",
       "First Construction Document Date           object\n",
       "Number of Existing Stories                float64\n",
       "Number of Proposed Stories                float64\n",
       "Permit Expiration Date                     object\n",
       "Estimated Cost                            float64\n",
       "Revised Cost                              float64\n",
       "Existing Use                               object\n",
       "Existing Units                            float64\n",
       "Proposed Use                               object\n",
       "Proposed Units                            float64\n",
       "Plansets                                  float64\n",
       "Existing Construction Type                float64\n",
       "Existing Construction Type Description     object\n",
       "Proposed Construction Type                float64\n",
       "Proposed Construction Type Description     object\n",
       "Supervisor District                       float64\n",
       "Neighborhoods - Analysis Boundaries        object\n",
       "Zipcode                                   float64\n",
       "Location                                   object\n",
       "Record ID                                   int64\n",
       "dtype: object"
      ]
     },
     "execution_count": 9,
     "metadata": {},
     "output_type": "execute_result"
    }
   ],
   "source": [
    "data.dtypes\n"
   ]
  },
  {
   "cell_type": "code",
   "execution_count": 12,
   "id": "b49d8266",
   "metadata": {},
   "outputs": [
    {
     "data": {
      "text/plain": [
       "Permit Number                                 0\n",
       "Permit Type                                   0\n",
       "Permit Type Definition                        0\n",
       "Permit Creation Date                          0\n",
       "Block                                         0\n",
       "Lot                                           0\n",
       "Street Number                                 0\n",
       "Street Name                                   0\n",
       "Street Suffix                              2768\n",
       "Description                                 290\n",
       "Current Status                                0\n",
       "Current Status Date                           0\n",
       "Filed Date                                    0\n",
       "Issued Date                               14940\n",
       "First Construction Document Date          14946\n",
       "Number of Existing Stories                    0\n",
       "Number of Proposed Stories                    0\n",
       "Permit Expiration Date                    51880\n",
       "Estimated Cost                                0\n",
       "Revised Cost                                  0\n",
       "Existing Use                              41114\n",
       "Existing Units                                0\n",
       "Proposed Use                              42439\n",
       "Proposed Units                                0\n",
       "Plansets                                  37309\n",
       "Existing Construction Type                43366\n",
       "Existing Construction Type Description    43366\n",
       "Proposed Construction Type                43162\n",
       "Proposed Construction Type Description    43162\n",
       "Supervisor District                        1717\n",
       "Neighborhoods - Analysis Boundaries        1725\n",
       "Zipcode                                    1716\n",
       "Location                                   1700\n",
       "Record ID                                     0\n",
       "dtype: int64"
      ]
     },
     "execution_count": 12,
     "metadata": {},
     "output_type": "execute_result"
    }
   ],
   "source": [
    "data['Number of Existing Stories'] = data ['Number of Existing Stories'].fillna(data['Number of Existing Stories'].mean())\n",
    "data['Number of Proposed Stories'] = data ['Number of Proposed Stories'].fillna(data['Number of Proposed Stories'].mean())\n",
    "data['Estimated Cost'] = data ['Estimated Cost'].fillna(data['Estimated Cost'].mean())\n",
    "data['Revised Cost'] = data ['Revised Cost'].fillna(data['Revised Cost'].mean())\n",
    "data['Existing Units'] = data ['Existing Units'].fillna(data['Existing Units'].mean())\n",
    "data['Proposed Units'] = data ['Proposed Units'].fillna(data['Proposed Units'].mean())\n",
    "data['Proposed Units'] = data ['Proposed Units'].fillna(data['Proposed Units'].mean())\n",
    "data.isnull().sum()"
   ]
  },
  {
   "cell_type": "code",
   "execution_count": null,
   "id": "89924fd8",
   "metadata": {},
   "outputs": [],
   "source": [
    "data.fillna(\"nan\", inplace=True)\n",
    "data.isnull().sum()"
   ]
  },
  {
   "cell_type": "code",
   "execution_count": null,
   "id": "5138a191",
   "metadata": {},
   "outputs": [],
   "source": [
    "data.head(30)"
   ]
  },
  {
   "cell_type": "code",
   "execution_count": null,
   "id": "4ee1feff",
   "metadata": {},
   "outputs": [],
   "source": [
    "data.shape"
   ]
  },
  {
   "cell_type": "code",
   "execution_count": null,
   "id": "f094923c",
   "metadata": {},
   "outputs": [],
   "source": [
    "data\n"
   ]
  },
  {
   "cell_type": "code",
   "execution_count": null,
   "id": "5e51d788",
   "metadata": {},
   "outputs": [],
   "source": [
    "data.isnull().sum()\n"
   ]
  },
  {
   "cell_type": "code",
   "execution_count": null,
   "id": "85c82bd7",
   "metadata": {},
   "outputs": [],
   "source": []
  }
 ],
 "metadata": {
  "kernelspec": {
   "display_name": "Python 3 (ipykernel)",
   "language": "python",
   "name": "python3"
  },
  "language_info": {
   "codemirror_mode": {
    "name": "ipython",
    "version": 3
   },
   "file_extension": ".py",
   "mimetype": "text/x-python",
   "name": "python",
   "nbconvert_exporter": "python",
   "pygments_lexer": "ipython3",
   "version": "3.9.16"
  }
 },
 "nbformat": 4,
 "nbformat_minor": 5
}
