{
 "cells": [
  {
   "cell_type": "code",
   "execution_count": 1,
   "id": "c74d2957",
   "metadata": {},
   "outputs": [],
   "source": [
    "import pandas as pd \n",
    "import matplotlib.pyplot as plt\n",
    "import numpy as np"
   ]
  },
  {
   "cell_type": "code",
   "execution_count": 2,
   "id": "fb827636",
   "metadata": {},
   "outputs": [],
   "source": [
    "data_one=pd.read_csv('Phones_accelerometer\\Phones_accelerometer.csv')\n",
    "data_two=pd.read_csv('Phones_accelerometer\\Phones_gyroscope.csv')\n",
    "data_three=pd.read_csv('Phones_accelerometer\\Watch_accelerometer.csv')\n",
    "data_four=pd.read_csv('Phones_accelerometer\\Watch_gyroscope.csv')"
   ]
  },
  {
   "cell_type": "code",
   "execution_count": 3,
   "id": "440f3ff8",
   "metadata": {},
   "outputs": [],
   "source": [
    "data=pd.concat([data_one,data_two,data_three,data_four],ignore_index=True, sort=False)"
   ]
  },
  {
   "cell_type": "code",
   "execution_count": 4,
   "id": "28f9141e",
   "metadata": {},
   "outputs": [
    {
     "data": {
      "text/plain": [
       "(33741500, 10)"
      ]
     },
     "execution_count": 4,
     "metadata": {},
     "output_type": "execute_result"
    }
   ],
   "source": [
    "data.shape"
   ]
  },
  {
   "cell_type": "code",
   "execution_count": 5,
   "id": "6a47b14f",
   "metadata": {},
   "outputs": [
    {
     "data": {
      "text/plain": [
       "Index                  0\n",
       "Arrival_Time           0\n",
       "Creation_Time          0\n",
       "x                      0\n",
       "y                      0\n",
       "z                      0\n",
       "User                   0\n",
       "Model                  0\n",
       "Device                 0\n",
       "gt               4643613\n",
       "dtype: int64"
      ]
     },
     "execution_count": 5,
     "metadata": {},
     "output_type": "execute_result"
    }
   ],
   "source": [
    "missing_values_count=data.isnull().sum()\n",
    "data.isnull().sum()"
   ]
  },
  {
   "cell_type": "code",
   "execution_count": 6,
   "id": "a389ed02",
   "metadata": {},
   "outputs": [
    {
     "data": {
      "text/plain": [
       "4643613"
      ]
     },
     "execution_count": 6,
     "metadata": {},
     "output_type": "execute_result"
    }
   ],
   "source": [
    "total_datos_perdidos = missing_values_count.sum()\n",
    "total_datos_perdidos"
   ]
  },
  {
   "cell_type": "code",
   "execution_count": 7,
   "id": "1ddf0bb4",
   "metadata": {},
   "outputs": [
    {
     "data": {
      "text/plain": [
       "Index              int64\n",
       "Arrival_Time       int64\n",
       "Creation_Time      int64\n",
       "x                float64\n",
       "y                float64\n",
       "z                float64\n",
       "User              object\n",
       "Model             object\n",
       "Device            object\n",
       "gt                object\n",
       "dtype: object"
      ]
     },
     "execution_count": 7,
     "metadata": {},
     "output_type": "execute_result"
    }
   ],
   "source": [
    "data.dtypes"
   ]
  },
  {
   "cell_type": "code",
   "execution_count": 8,
   "id": "97ca286b",
   "metadata": {},
   "outputs": [
    {
     "data": {
      "text/plain": [
       "Index            0\n",
       "Arrival_Time     0\n",
       "Creation_Time    0\n",
       "x                0\n",
       "y                0\n",
       "z                0\n",
       "User             0\n",
       "Model            0\n",
       "Device           0\n",
       "gt               0\n",
       "dtype: int64"
      ]
     },
     "execution_count": 8,
     "metadata": {},
     "output_type": "execute_result"
    }
   ],
   "source": [
    "data.fillna(0,inplace=True)\n",
    "data.isnull().sum()"
   ]
  },
  {
   "cell_type": "code",
   "execution_count": 9,
   "id": "d4962e2c",
   "metadata": {},
   "outputs": [
    {
     "data": {
      "text/plain": [
       "array(['stand', 0, 'sit', 'walk', 'stairsup', 'stairsdown', 'bike'],\n",
       "      dtype=object)"
      ]
     },
     "execution_count": 9,
     "metadata": {},
     "output_type": "execute_result"
    }
   ],
   "source": [
    "objetos = data['gt'].unique()\n",
    "objetos"
   ]
  },
  {
   "cell_type": "code",
   "execution_count": 12,
   "id": "3b5e571c",
   "metadata": {},
   "outputs": [],
   "source": [
    "map = {'stand': 1, 'sit': 2, 'walk': 3, 'stairsup': 4, 'stairsdown': 5, 'bike': 6}\n",
    "data['gt'] = data['gt'].replace(map)"
   ]
  },
  {
   "cell_type": "code",
   "execution_count": 13,
   "id": "1d1c8c74",
   "metadata": {},
   "outputs": [
    {
     "data": {
      "text/plain": [
       "0           1\n",
       "1           1\n",
       "2           1\n",
       "3           1\n",
       "4           1\n",
       "           ..\n",
       "33741495    6\n",
       "33741496    6\n",
       "33741497    6\n",
       "33741498    6\n",
       "33741499    6\n",
       "Name: gt, Length: 33741500, dtype: int64"
      ]
     },
     "execution_count": 13,
     "metadata": {},
     "output_type": "execute_result"
    }
   ],
   "source": [
    "data['gt']"
   ]
  },
  {
   "cell_type": "code",
   "execution_count": null,
   "id": "5b1e12e2",
   "metadata": {},
   "outputs": [],
   "source": []
  }
 ],
 "metadata": {
  "kernelspec": {
   "display_name": "Python 3 (ipykernel)",
   "language": "python",
   "name": "python3"
  },
  "language_info": {
   "codemirror_mode": {
    "name": "ipython",
    "version": 3
   },
   "file_extension": ".py",
   "mimetype": "text/x-python",
   "name": "python",
   "nbconvert_exporter": "python",
   "pygments_lexer": "ipython3",
   "version": "3.9.13"
  }
 },
 "nbformat": 4,
 "nbformat_minor": 5
}
